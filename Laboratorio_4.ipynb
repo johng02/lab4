{
  "nbformat": 4,
  "nbformat_minor": 0,
  "metadata": {
    "colab": {
      "provenance": [],
      "include_colab_link": true
    },
    "kernelspec": {
      "name": "python3",
      "display_name": "Python 3"
    },
    "language_info": {
      "name": "python"
    }
  },
  "cells": [
    {
      "cell_type": "markdown",
      "metadata": {
        "id": "view-in-github",
        "colab_type": "text"
      },
      "source": [
        "<a href=\"https://colab.research.google.com/github/johng02/lab4/blob/john-gomez/Laboratorio_4.ipynb\" target=\"_parent\"><img src=\"https://colab.research.google.com/assets/colab-badge.svg\" alt=\"Open In Colab\"/></a>"
      ]
    },
    {
      "cell_type": "markdown",
      "source": [
        "# **Laboratorio 4: Métodos de aproximación**\n",
        "**Facultad de ingeniería, departamento de Ingeniería Biomédica, Universidad de los Andes**\\\n",
        "**IBIO-2440 Programación científica**"
      ],
      "metadata": {
        "id": "aiVyYM0UZ9Cg"
      }
    },
    {
      "cell_type": "markdown",
      "source": [
        "**Nombres de los integrantes**\n",
        "\n",
        "\n",
        "1.   Nombre integrante 1\n",
        "2.   Nombre integrante 2\n",
        "\n",
        "**Número del grupo**\n",
        "\n",
        "*Escribir el número del grupo*\n"
      ],
      "metadata": {
        "id": "aTJOo3lnar5X"
      }
    },
    {
      "cell_type": "markdown",
      "source": [
        "Los métodos de aproximación numéricos permiten modelar diversos escenarios matemáticos y físicos cuyas ecuaciones constitutivas tienen una complejidad tan elevada que no es posible alcanzar una solución analítica. Existe una infinidad de métodos numéricos para aproximar diferentes situaciones. Sin embargo, en este laboratorio se trabaja con la linealización de una función no lineal. La linealización permite resolver sistemas de ecuaciones algebráicas, diferenciales o una combinación de ambas, por lo que tiene una utilidad potencial en la ingeniería. Este proceso está presente en el estudio de sistemas dinámicos, métodos de elementos finitos, diferencias finitas, optimización, machine learning, entre muchas otras más. \\\n",
        "\n",
        "En este sentido, el laboratorio se divide en dos partes, una donde se debe crear un algoritmo de aproximación del gradiente, y otra donde se usa la serie de Taylor multivariable para linealizar alrededor de un punto."
      ],
      "metadata": {
        "id": "OambcLreVN_P"
      }
    },
    {
      "cell_type": "markdown",
      "source": [
        "# **Aproximación del gradiente**\n",
        "\n",
        "Para introducir el algoritmo que se debe usar, hay que recordar un poco la teoría. Sea $f$ una función $f:\\mathbb{R}\\rightarrow\\mathbb{R}$, la derivada de esta función se define como:\n",
        "\n",
        "\\begin{align*}\n",
        " \\frac{df}{dx} =  \\lim_{h\\to 0} \\frac{f(x+h)-f(x)}{h}\n",
        "\\end{align*}\n",
        "\n",
        "Ahora, si se desea evaluar la derivada de $f$ en un punto concreto $x^*$, queda:\n",
        "\n",
        "\\begin{align*}\n",
        "\\left. \\frac{df}{dx} \\right|_{x^*}=  \\lim_{h\\to 0} \\frac{f(x^*+h)-f(x^*)}{h}\n",
        "\\end{align*}\n",
        "\n",
        "El problema es que el computador no puede entender un límite, por lo que hay que hacer una aproximación. Hay que definir un ϵ muy pequeño para modelar la división por cero. Luego, la derivada numérica queda de la forma:\n",
        "\n",
        "\\begin{align*}\n",
        " \\left.\\frac{df}{dx}\\right|_{x^*} \\approx  \\frac{f(x^*+ϵ)-f(x^*)}{ϵ}\n",
        "\\end{align*}\n",
        "\n",
        "Ahora, si se desea generalizar esta aproximación para el gradiente de una función $f:\\mathbb{R^n}→\\mathbb{R}$, se debe calcular la derivada parcial con respecto a cada variable. En este sentido, se define $X$ como el vector de variables independientes $X^*=[x_1^*,x_2^*, ..., x_n^*]^T$, luego, el gradiente queda de la forma:\n",
        "\n",
        "\\begin{align*}\n",
        "  ∇f(X)= \\left [\\frac{∂f}{∂x_1} , \\frac{∂f}{∂x_2}, ..., \\frac{∂f}{∂x_n}\\right]^T\n",
        "\\end{align*}\n",
        "\n",
        "Luego, aproximar el gradiente es aproximar $n$ derivadas ordinarias. Ahora, si se quiere encontrar el gradiente en un punto $X^*=[x_1^*,x_2^*, ..., x_n^*]^T$, quedaría:\n",
        "\n",
        "\\begin{align*}\n",
        "  ∇f(X^*)= \\left [  \\left. \\frac{∂f}{∂x_1} \\right|_{X^*}, \\left.\\frac{∂f}{∂x_2}\\right|_{X^*} , ...,  \\left.\\frac{∂f}{∂x_n} \\right|_{X^*}\\right]^T\n",
        "\\end{align*}\n",
        "\n",
        "La idea de este laboratorio es que realice un algoritmo que permita aproximar el gradiente mediante la derivada central alrededor de un punto $X^*$ de una función con un contexto biomédico, la cual es:\n",
        "\n",
        "\n",
        "- **Aneurisma aórtico:** sa trata de un coágulo en la arteria aorta que obstruye el flujo sanguíneo. Es posible modelar las lineas de corriente de la sangre alrededor del coágulo modelado como un cuerpo de Rankine cilíndrico mediante la función de corriente:\n",
        "\n",
        "\\begin{align*}\n",
        "  \\psi(x,y) = \\frac{4}{5}\\sqrt{x^2+y^2}\\left( 1- \\frac{1}{x^2+y^2} \\right)\\sin \\left[\\tan^{-1}\\left (\\frac{y}{x}\\right ) \\right]\n",
        "\\end{align*}\n",
        "\n",
        " Para esto, debe seguir los siguientes pasos:\n",
        "\n",
        "1. Lea la documentación sobre la libería Sympy en el siguiente enlace: https://docs.sympy.org/latest/tutorials/intro-tutorial/basic_operations.html, además, importela.\n"
      ],
      "metadata": {
        "id": "9MZHCvebU8e9"
      }
    },
    {
      "cell_type": "code",
      "source": [
        "import numpy as np\n",
        "import sympy as sym\n"
      ],
      "metadata": {
        "id": "JhTOd9vqfA1H"
      },
      "execution_count": null,
      "outputs": []
    },
    {
      "cell_type": "markdown",
      "source": [
        "2. Definir las varibales $x$ y $y$ como variables simbólicas. "
      ],
      "metadata": {
        "id": "9-m0iVC9b6ow"
      }
    },
    {
      "cell_type": "code",
      "source": [
        "x,y=sym.symbols(\"x y\")"
      ],
      "metadata": {
        "id": "sUYpQ3XccAKa"
      },
      "execution_count": null,
      "outputs": []
    },
    {
      "cell_type": "markdown",
      "source": [
        "3. Establecer los valores $ϵ=0.001$ y $(x^*,y^*)^T=(\\frac{1}{2}, -\\frac{1}{2})^T$\n"
      ],
      "metadata": {
        "id": "8HixHud9cAmX"
      }
    },
    {
      "cell_type": "code",
      "source": [
        "e_rarita= 0.001\n",
        "X=np.array([0.5, -0.5])"
      ],
      "metadata": {
        "id": "717p2XTmdbn0"
      },
      "execution_count": null,
      "outputs": []
    },
    {
      "cell_type": "markdown",
      "source": [
        "4. Mediante el uso de la librería Sympy, encuentre las derivadas parciales con respecto a $x$ y $y$ y evalúelas en los puntos mencionados. (**Ayuda:** use la función subs de la librería Sympy)"
      ],
      "metadata": {
        "id": "Cw6CtkGV5UXR"
      }
    },
    {
      "cell_type": "code",
      "source": [
        "fun_1=(4/5)*sym.sqrt(x**2+y**2)*(1-(1/x**2+y**2))*sym.sin(sym.atan(y/x))\n",
        "fxy= sym.lambdify([x,y], fun_1,\"numpy\")\n",
        "\n",
        "\n",
        "\n",
        "df_dy=fun_1.diff(y)\n",
        "dfy=sym.lambdify([x,y],df_dy, \"numpy\")\n",
        "\n",
        "df_dx=fun_1.diff(x)\n",
        "dfx=sym.lambdify([x,y],df_dx, \"numpy\")\n",
        "\n",
        "\n",
        "#dfy(0.5,-0.5)\n",
        "#dfx(0.5,-0.5)"
      ],
      "metadata": {
        "id": "2inNpNn75soh"
      },
      "execution_count": 45,
      "outputs": []
    },
    {
      "cell_type": "markdown",
      "source": [
        "5. Mediante la aproximación de la derivada, encuentre las derivadas parciales de la función alrededor de los puntos mencionados."
      ],
      "metadata": {
        "id": "MHy6Kuhc5tIp"
      }
    },
    {
      "cell_type": "code",
      "source": [],
      "metadata": {
        "id": "c2IZ6NtB7FYX"
      },
      "execution_count": null,
      "outputs": []
    },
    {
      "cell_type": "markdown",
      "source": [
        "6. Compare los resultados, ¿cuál es el error porcentual entre la derivada analítica y la numérica?\n",
        "\n",
        "Recuerde que el error porcentual es de la forma:\n",
        "\n",
        "\\begin{align*}\n",
        "  Error =  100\\frac{|Estimado - Analítico|}{Analítico}\n",
        "\\end{align*}"
      ],
      "metadata": {
        "id": "qvWwI5qT-9wt"
      }
    },
    {
      "cell_type": "code",
      "source": [],
      "metadata": {
        "id": "1VrFvoUw_FSL"
      },
      "execution_count": null,
      "outputs": []
    },
    {
      "cell_type": "markdown",
      "source": [
        "# **Linealización de una función**\n",
        "\n",
        "En esta parte debe usar el algoritmo creado en la parte anterior para linealizar una función no lineal alrededor de un punto en concreto. Para esto, primero que que recordar la teoría de linealización, la cual se lleva a cabo mediante la serie de Taylor truncada:\n",
        "\n",
        "- **Una dimensión**\n",
        "\n",
        "\\begin{align*}\n",
        "  f(x) \\approx f(x^*) + \\left .\\frac{df}{dx} \\right|_{x^*} (x-x^*)\n",
        "\\end{align*}\n",
        "\n",
        "- **Multivariable**\n",
        "\n",
        "\\begin{align*}\n",
        "  f(X) \\approx f(X^*) +∇f(X^*)^T (X-X^*)\n",
        "\\end{align*}\n",
        "\n",
        "  Con $X=[x_1,x_2, ..., x_n]^T$ y $X^*=[x_1^*,x_2^*, ..., x_n^*]^T$\n",
        "\n",
        "Para esto, debe seguir los siguientes pasos:\n",
        "\n",
        "1. Defina ahora las variables como arreglos numéricos. Tanto $x$ como $y$ debe variar entre -1 a 1 **(ojo: no incluya el cero en los arreglos o puede producir errores)**"
      ],
      "metadata": {
        "id": "2adhIX1F8yCB"
      }
    },
    {
      "cell_type": "code",
      "source": [],
      "metadata": {
        "id": "RO8JOzJD_zCs"
      },
      "execution_count": null,
      "outputs": []
    },
    {
      "cell_type": "markdown",
      "source": [
        "2. Sustituya los valores de los arreglos en las variables (Use *subs* de Sympy)"
      ],
      "metadata": {
        "id": "N-TxYjHS_zST"
      }
    },
    {
      "cell_type": "code",
      "source": [],
      "metadata": {
        "id": "PBbhFB8R_-FG"
      },
      "execution_count": null,
      "outputs": []
    },
    {
      "cell_type": "markdown",
      "source": [
        "3. Con la aproximación de la serie Taylor truncada linealice la función alrededor de los puntos mencionados (use los valores de las derivadas numéricas halladas para las derivadas parciales en la parte anterior)"
      ],
      "metadata": {
        "id": "Z__eo5iY_-QV"
      }
    },
    {
      "cell_type": "code",
      "source": [],
      "metadata": {
        "id": "wofSjuvlASM0"
      },
      "execution_count": null,
      "outputs": []
    },
    {
      "cell_type": "markdown",
      "source": [
        "4. Grafique la superficie de la función analítica junto a la aproximación lineal. Agregue título, labels y leyendas."
      ],
      "metadata": {
        "id": "IyEQDG-9ASkY"
      }
    },
    {
      "cell_type": "code",
      "source": [],
      "metadata": {
        "id": "Pa-l-zRiA1U1"
      },
      "execution_count": null,
      "outputs": []
    },
    {
      "cell_type": "markdown",
      "source": [
        "5. Grafique el error porcentual entre la función analítica y la aproximación lineal de la siguiente forma. Incluya título, labels y leyendas."
      ],
      "metadata": {
        "id": "mdYUD9IoA1jN"
      }
    },
    {
      "cell_type": "code",
      "source": [],
      "metadata": {
        "id": "SmUD-Pb9BfrE"
      },
      "execution_count": null,
      "outputs": []
    }
  ]
}